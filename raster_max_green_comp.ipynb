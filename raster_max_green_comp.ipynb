{
  "nbformat": 4,
  "nbformat_minor": 0,
  "metadata": {
    "colab": {
      "provenance": [],
      "authorship_tag": "ABX9TyNICye4fK8MF+aWC6ar7eyJ",
      "include_colab_link": true
    },
    "kernelspec": {
      "name": "python3",
      "display_name": "Python 3"
    },
    "language_info": {
      "name": "python"
    }
  },
  "cells": [
    {
      "cell_type": "markdown",
      "metadata": {
        "id": "view-in-github",
        "colab_type": "text"
      },
      "source": [
        "<a href=\"https://colab.research.google.com/github/coltongerth/raster-max-green-comp/blob/main/raster_max_green_comp.ipynb\" target=\"_parent\"><img src=\"https://colab.research.google.com/assets/colab-badge.svg\" alt=\"Open In Colab\"/></a>"
      ]
    },
    {
      "cell_type": "code",
      "execution_count": null,
      "metadata": {
        "id": "v89UIr4B2ndB"
      },
      "outputs": [],
      "source": [
        "%%capture\n",
        "# !pip install raster_tools\n",
        "!pip install rasterio\n",
        "!pip install gdown"
      ]
    },
    {
      "cell_type": "code",
      "source": [
        "import rasterio\n",
        "from rasterio import shutil as rio_shutil\n",
        "from rasterio.enums import Resampling\n",
        "from rasterio.windows import Window\n",
        "import numpy as np\n",
        "import gdown, zipfile\n"
      ],
      "metadata": {
        "id": "vioLhjAf9hSB"
      },
      "execution_count": 11,
      "outputs": []
    },
    {
      "cell_type": "code",
      "source": [
        "# Change this to the zipfile containing your raster and mask you desire.\n",
        "url='https://drive.google.com/file/d/19WqU5Ka9HL1KT2GhzjNb5mUuemSVpFx1/view?usp=sharing'\n",
        "outfl= r'./raster_data.zip'\n",
        "gdown.download(url=url,output=outfl,quiet=False,fuzzy=True)\n",
        "with zipfile.ZipFile(outfl, 'r') as zip_ref:\n",
        "    zip_ref.extractall(\".\")"
      ],
      "metadata": {
        "colab": {
          "base_uri": "https://localhost:8080/"
        },
        "id": "h8RMiDfc-A-K",
        "outputId": "e353e37b-5607-4e01-e523-8d6f858f1dd4"
      },
      "execution_count": 12,
      "outputs": [
        {
          "output_type": "stream",
          "name": "stderr",
          "text": [
            "Downloading...\n",
            "From (original): https://drive.google.com/uc?id=19WqU5Ka9HL1KT2GhzjNb5mUuemSVpFx1\n",
            "From (redirected): https://drive.google.com/uc?id=19WqU5Ka9HL1KT2GhzjNb5mUuemSVpFx1&confirm=t&uuid=d67380b6-3a89-4e9f-af27-34dffdfec325\n",
            "To: /content/raster_data.zip\n",
            "100%|██████████| 111M/111M [00:02<00:00, 52.9MB/s]\n"
          ]
        }
      ]
    },
    {
      "cell_type": "code",
      "source": [
        "# Update the ingrid and mask_path to the names of the rasters desired.\n",
        "outdir = \".\"\n",
        "ingrid = \"/content/MaDoyCutwgs.tif\"\n",
        "jday = 167\n",
        "mask_path = \"/content/EvtCutwgs.tif\"\n",
        "year = 521"
      ],
      "metadata": {
        "id": "V6tSSOZa_5rJ"
      },
      "execution_count": 13,
      "outputs": []
    },
    {
      "cell_type": "code",
      "source": [
        "nodata_value = -9999  # Define a no data value\n",
        "\n",
        "# First attempt at using John's stuff, not quite there yet.\n",
        "# ingrid_raster = Raster(ingrid)\n",
        "# mask_vector = Raster(mask_path)\n",
        "# print(mask_vector.mask)\n",
        "# ingrid_raster = clipping.clip(mask_vector.mask,ingrid_raster)\n",
        "# print(ingrid_raster)\n",
        "\n",
        "\n",
        "\n",
        "# Open the mask and input grid\n",
        "with rasterio.open(mask_path) as mask_ds, rasterio.open(ingrid) as ingrid_ds:\n",
        "    # Prepare output meta from mask\n",
        "    output_meta = mask_ds.meta.copy()\n",
        "    output_meta.update({\n",
        "        'compress': 'lzw',\n",
        "        'nodata': nodata_value,\n",
        "        'dtype': 'int32'  # Change data type to signed 32-bit integer\n",
        "    })\n",
        "\n",
        "    # Prepare output files\n",
        "    with rasterio.open(outdir + \"/DOYLessJday.tif\", \"w\", **output_meta) as dst_less, \\\n",
        "         rasterio.open(outdir + \"/DOYDevclass.tif\", \"w\", **output_meta) as dst_class, \\\n",
        "         rasterio.open(outdir + \"/DOYDevclassno.tif\", \"w\", **output_meta) as dst_classno:\n",
        "\n",
        "        # Ensure block shapes match\n",
        "        assert mask_ds.block_shapes[0] == ingrid_ds.block_shapes[0]\n",
        "\n",
        "        # Process each block of data\n",
        "        for ji, window in mask_ds.block_windows(1):\n",
        "            # Read a window of the mask\n",
        "            mask = mask_ds.read(1, window=window)\n",
        "            # Read the corresponding window of the input grid\n",
        "            input_grid = ingrid_ds.read(1, window=window)\n",
        "\n",
        "            # Ensure shapes match exactly\n",
        "            if mask.shape != input_grid.shape:\n",
        "                min_shape = (min(mask.shape[0], input_grid.shape[0]), min(mask.shape[1], input_grid.shape[1]))\n",
        "                mask = mask[:min_shape[0], :min_shape[1]]\n",
        "                input_grid = input_grid[:min_shape[0], :min_shape[1]]\n",
        "\n",
        "            # Adjust the input grid\n",
        "            input_grid = input_grid - jday\n",
        "\n",
        "            # Calculate DOYLessJday\n",
        "            DOYLessJday = np.where(mask > 0, input_grid, nodata_value)\n",
        "\n",
        "            # Calculate DOYDevclass\n",
        "            DOYDevclass = np.full(DOYLessJday.shape, nodata_value, dtype=np.int32)\n",
        "            DOYDevclass[(DOYLessJday < -365)] = nodata_value\n",
        "            DOYDevclass[(DOYLessJday >= -200) & (DOYLessJday <= -35)] = 1\n",
        "            DOYDevclass[(DOYLessJday > -35) & (DOYLessJday <= -14)] = 2\n",
        "            DOYDevclass[(DOYLessJday > -14) & (DOYLessJday <= 0)] = 3\n",
        "            DOYDevclass[(DOYLessJday > 0) & (DOYLessJday <= 14)] = 4\n",
        "            DOYDevclass[(DOYLessJday > 14) & (DOYLessJday <= 35)] = 5\n",
        "            DOYDevclass[(DOYLessJday > 35) & (DOYLessJday <= 200)] = 6\n",
        "\n",
        "            # Calculate DOYDevclassno\n",
        "            DOYDevclassno = np.where(DOYLessJday == nodata_value, nodata_value, DOYDevclass)\n",
        "\n",
        "            # Write each block back to the output rasters\n",
        "            dst_less.write(DOYLessJday, 1, window=window)\n",
        "            dst_class.write(DOYDevclass, 1, window=window)\n",
        "            dst_classno.write(DOYDevclassno, 1, window=window)"
      ],
      "metadata": {
        "id": "HDdOWTE1Ar2U"
      },
      "execution_count": 14,
      "outputs": []
    }
  ]
}